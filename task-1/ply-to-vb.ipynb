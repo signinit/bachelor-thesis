{
 "cells": [
  {
   "cell_type": "code",
   "execution_count": 1,
   "metadata": {},
   "outputs": [],
   "source": [
    "from plyfile import PlyData, PlyElement"
   ]
  },
  {
   "cell_type": "code",
   "execution_count": 2,
   "metadata": {},
   "outputs": [],
   "source": [
    "import numpy as np"
   ]
  },
  {
   "cell_type": "code",
   "execution_count": 3,
   "metadata": {},
   "outputs": [],
   "source": [
    "import array"
   ]
  },
  {
   "cell_type": "code",
   "execution_count": 4,
   "metadata": {},
   "outputs": [],
   "source": [
    "import struct"
   ]
  },
  {
   "cell_type": "code",
   "execution_count": 5,
   "metadata": {},
   "outputs": [],
   "source": [
    "plydata = PlyData.read('object-1.ply')"
   ]
  },
  {
   "cell_type": "code",
   "execution_count": 4,
   "metadata": {},
   "outputs": [],
   "source": [
    "data = np.array(list(map(lambda x: np.array(list(x)), plydata.elements[0].data)))"
   ]
  },
  {
   "cell_type": "code",
   "execution_count": 29,
   "metadata": {},
   "outputs": [],
   "source": [
    "f = open(\"export.vg\", \"a\")\n",
    "\n",
    "f.write(\"vertecies \")\n",
    "f.write(str(data.shape[0]) + \" \")\n",
    "for entry in data:\n",
    "    f.write(str(entry[0]) + \" \")\n",
    "    f.write(str(entry[1]) + \" \")\n",
    "    f.write(str(entry[2]) + \" \")\n",
    "\n",
    "f.write(\"colors \")\n",
    "f.write(str(data.shape[0]) + \" \")\n",
    "for entry in data:\n",
    "    f.write(str(entry[6]) + \" \")\n",
    "    f.write(str(entry[7]) + \" \")\n",
    "    f.write(str(entry[8]) + \" \")\n",
    "    \n",
    "f.write(\"normals \")\n",
    "f.write(str(data.shape[0]) + \" \")\n",
    "for entry in data:\n",
    "    f.write(str(entry[3]) + \" \")\n",
    "    f.write(str(entry[4]) + \" \")\n",
    "    f.write(str(entry[5]) + \" \")\n",
    "    \n",
    "    \n",
    "f.close()"
   ]
  }
 ],
 "metadata": {
  "kernelspec": {
   "display_name": "Python 3",
   "language": "python",
   "name": "python3"
  },
  "language_info": {
   "codemirror_mode": {
    "name": "ipython",
    "version": 3
   },
   "file_extension": ".py",
   "mimetype": "text/x-python",
   "name": "python",
   "nbconvert_exporter": "python",
   "pygments_lexer": "ipython3",
   "version": "3.7.3"
  }
 },
 "nbformat": 4,
 "nbformat_minor": 4
}
